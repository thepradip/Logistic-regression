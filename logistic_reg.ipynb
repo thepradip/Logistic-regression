{
 "cells": [
  {
   "cell_type": "markdown",
   "metadata": {},
   "source": [
    "https://scikit-learn.org/stable/modules/generated/sklearn.preprocessing.MinMaxScaler.html\n",
    "minmaxscaler used for scalling data"
   ]
  },
  {
   "cell_type": "code",
   "execution_count": 3,
   "metadata": {},
   "outputs": [],
   "source": [
    "\n",
    "%matplotlib inline\n",
    "import numpy as np\n",
    "import matplotlib.pyplot as plt\n",
    "import seaborn as sns\n",
    "import pandas as  pd\n",
    "from sklearn import datasets"
   ]
  },
  {
   "cell_type": "code",
   "execution_count": 4,
   "metadata": {},
   "outputs": [
    {
     "data": {
      "text/plain": [
       "{'data': array([[5.1, 3.5, 1.4, 0.2],\n",
       "        [4.9, 3. , 1.4, 0.2],\n",
       "        [4.7, 3.2, 1.3, 0.2],\n",
       "        [4.6, 3.1, 1.5, 0.2],\n",
       "        [5. , 3.6, 1.4, 0.2],\n",
       "        [5.4, 3.9, 1.7, 0.4],\n",
       "        [4.6, 3.4, 1.4, 0.3],\n",
       "        [5. , 3.4, 1.5, 0.2],\n",
       "        [4.4, 2.9, 1.4, 0.2],\n",
       "        [4.9, 3.1, 1.5, 0.1],\n",
       "        [5.4, 3.7, 1.5, 0.2],\n",
       "        [4.8, 3.4, 1.6, 0.2],\n",
       "        [4.8, 3. , 1.4, 0.1],\n",
       "        [4.3, 3. , 1.1, 0.1],\n",
       "        [5.8, 4. , 1.2, 0.2],\n",
       "        [5.7, 4.4, 1.5, 0.4],\n",
       "        [5.4, 3.9, 1.3, 0.4],\n",
       "        [5.1, 3.5, 1.4, 0.3],\n",
       "        [5.7, 3.8, 1.7, 0.3],\n",
       "        [5.1, 3.8, 1.5, 0.3],\n",
       "        [5.4, 3.4, 1.7, 0.2],\n",
       "        [5.1, 3.7, 1.5, 0.4],\n",
       "        [4.6, 3.6, 1. , 0.2],\n",
       "        [5.1, 3.3, 1.7, 0.5],\n",
       "        [4.8, 3.4, 1.9, 0.2],\n",
       "        [5. , 3. , 1.6, 0.2],\n",
       "        [5. , 3.4, 1.6, 0.4],\n",
       "        [5.2, 3.5, 1.5, 0.2],\n",
       "        [5.2, 3.4, 1.4, 0.2],\n",
       "        [4.7, 3.2, 1.6, 0.2],\n",
       "        [4.8, 3.1, 1.6, 0.2],\n",
       "        [5.4, 3.4, 1.5, 0.4],\n",
       "        [5.2, 4.1, 1.5, 0.1],\n",
       "        [5.5, 4.2, 1.4, 0.2],\n",
       "        [4.9, 3.1, 1.5, 0.2],\n",
       "        [5. , 3.2, 1.2, 0.2],\n",
       "        [5.5, 3.5, 1.3, 0.2],\n",
       "        [4.9, 3.6, 1.4, 0.1],\n",
       "        [4.4, 3. , 1.3, 0.2],\n",
       "        [5.1, 3.4, 1.5, 0.2],\n",
       "        [5. , 3.5, 1.3, 0.3],\n",
       "        [4.5, 2.3, 1.3, 0.3],\n",
       "        [4.4, 3.2, 1.3, 0.2],\n",
       "        [5. , 3.5, 1.6, 0.6],\n",
       "        [5.1, 3.8, 1.9, 0.4],\n",
       "        [4.8, 3. , 1.4, 0.3],\n",
       "        [5.1, 3.8, 1.6, 0.2],\n",
       "        [4.6, 3.2, 1.4, 0.2],\n",
       "        [5.3, 3.7, 1.5, 0.2],\n",
       "        [5. , 3.3, 1.4, 0.2],\n",
       "        [7. , 3.2, 4.7, 1.4],\n",
       "        [6.4, 3.2, 4.5, 1.5],\n",
       "        [6.9, 3.1, 4.9, 1.5],\n",
       "        [5.5, 2.3, 4. , 1.3],\n",
       "        [6.5, 2.8, 4.6, 1.5],\n",
       "        [5.7, 2.8, 4.5, 1.3],\n",
       "        [6.3, 3.3, 4.7, 1.6],\n",
       "        [4.9, 2.4, 3.3, 1. ],\n",
       "        [6.6, 2.9, 4.6, 1.3],\n",
       "        [5.2, 2.7, 3.9, 1.4],\n",
       "        [5. , 2. , 3.5, 1. ],\n",
       "        [5.9, 3. , 4.2, 1.5],\n",
       "        [6. , 2.2, 4. , 1. ],\n",
       "        [6.1, 2.9, 4.7, 1.4],\n",
       "        [5.6, 2.9, 3.6, 1.3],\n",
       "        [6.7, 3.1, 4.4, 1.4],\n",
       "        [5.6, 3. , 4.5, 1.5],\n",
       "        [5.8, 2.7, 4.1, 1. ],\n",
       "        [6.2, 2.2, 4.5, 1.5],\n",
       "        [5.6, 2.5, 3.9, 1.1],\n",
       "        [5.9, 3.2, 4.8, 1.8],\n",
       "        [6.1, 2.8, 4. , 1.3],\n",
       "        [6.3, 2.5, 4.9, 1.5],\n",
       "        [6.1, 2.8, 4.7, 1.2],\n",
       "        [6.4, 2.9, 4.3, 1.3],\n",
       "        [6.6, 3. , 4.4, 1.4],\n",
       "        [6.8, 2.8, 4.8, 1.4],\n",
       "        [6.7, 3. , 5. , 1.7],\n",
       "        [6. , 2.9, 4.5, 1.5],\n",
       "        [5.7, 2.6, 3.5, 1. ],\n",
       "        [5.5, 2.4, 3.8, 1.1],\n",
       "        [5.5, 2.4, 3.7, 1. ],\n",
       "        [5.8, 2.7, 3.9, 1.2],\n",
       "        [6. , 2.7, 5.1, 1.6],\n",
       "        [5.4, 3. , 4.5, 1.5],\n",
       "        [6. , 3.4, 4.5, 1.6],\n",
       "        [6.7, 3.1, 4.7, 1.5],\n",
       "        [6.3, 2.3, 4.4, 1.3],\n",
       "        [5.6, 3. , 4.1, 1.3],\n",
       "        [5.5, 2.5, 4. , 1.3],\n",
       "        [5.5, 2.6, 4.4, 1.2],\n",
       "        [6.1, 3. , 4.6, 1.4],\n",
       "        [5.8, 2.6, 4. , 1.2],\n",
       "        [5. , 2.3, 3.3, 1. ],\n",
       "        [5.6, 2.7, 4.2, 1.3],\n",
       "        [5.7, 3. , 4.2, 1.2],\n",
       "        [5.7, 2.9, 4.2, 1.3],\n",
       "        [6.2, 2.9, 4.3, 1.3],\n",
       "        [5.1, 2.5, 3. , 1.1],\n",
       "        [5.7, 2.8, 4.1, 1.3],\n",
       "        [6.3, 3.3, 6. , 2.5],\n",
       "        [5.8, 2.7, 5.1, 1.9],\n",
       "        [7.1, 3. , 5.9, 2.1],\n",
       "        [6.3, 2.9, 5.6, 1.8],\n",
       "        [6.5, 3. , 5.8, 2.2],\n",
       "        [7.6, 3. , 6.6, 2.1],\n",
       "        [4.9, 2.5, 4.5, 1.7],\n",
       "        [7.3, 2.9, 6.3, 1.8],\n",
       "        [6.7, 2.5, 5.8, 1.8],\n",
       "        [7.2, 3.6, 6.1, 2.5],\n",
       "        [6.5, 3.2, 5.1, 2. ],\n",
       "        [6.4, 2.7, 5.3, 1.9],\n",
       "        [6.8, 3. , 5.5, 2.1],\n",
       "        [5.7, 2.5, 5. , 2. ],\n",
       "        [5.8, 2.8, 5.1, 2.4],\n",
       "        [6.4, 3.2, 5.3, 2.3],\n",
       "        [6.5, 3. , 5.5, 1.8],\n",
       "        [7.7, 3.8, 6.7, 2.2],\n",
       "        [7.7, 2.6, 6.9, 2.3],\n",
       "        [6. , 2.2, 5. , 1.5],\n",
       "        [6.9, 3.2, 5.7, 2.3],\n",
       "        [5.6, 2.8, 4.9, 2. ],\n",
       "        [7.7, 2.8, 6.7, 2. ],\n",
       "        [6.3, 2.7, 4.9, 1.8],\n",
       "        [6.7, 3.3, 5.7, 2.1],\n",
       "        [7.2, 3.2, 6. , 1.8],\n",
       "        [6.2, 2.8, 4.8, 1.8],\n",
       "        [6.1, 3. , 4.9, 1.8],\n",
       "        [6.4, 2.8, 5.6, 2.1],\n",
       "        [7.2, 3. , 5.8, 1.6],\n",
       "        [7.4, 2.8, 6.1, 1.9],\n",
       "        [7.9, 3.8, 6.4, 2. ],\n",
       "        [6.4, 2.8, 5.6, 2.2],\n",
       "        [6.3, 2.8, 5.1, 1.5],\n",
       "        [6.1, 2.6, 5.6, 1.4],\n",
       "        [7.7, 3. , 6.1, 2.3],\n",
       "        [6.3, 3.4, 5.6, 2.4],\n",
       "        [6.4, 3.1, 5.5, 1.8],\n",
       "        [6. , 3. , 4.8, 1.8],\n",
       "        [6.9, 3.1, 5.4, 2.1],\n",
       "        [6.7, 3.1, 5.6, 2.4],\n",
       "        [6.9, 3.1, 5.1, 2.3],\n",
       "        [5.8, 2.7, 5.1, 1.9],\n",
       "        [6.8, 3.2, 5.9, 2.3],\n",
       "        [6.7, 3.3, 5.7, 2.5],\n",
       "        [6.7, 3. , 5.2, 2.3],\n",
       "        [6.3, 2.5, 5. , 1.9],\n",
       "        [6.5, 3. , 5.2, 2. ],\n",
       "        [6.2, 3.4, 5.4, 2.3],\n",
       "        [5.9, 3. , 5.1, 1.8]]),\n",
       " 'target': array([0, 0, 0, 0, 0, 0, 0, 0, 0, 0, 0, 0, 0, 0, 0, 0, 0, 0, 0, 0, 0, 0,\n",
       "        0, 0, 0, 0, 0, 0, 0, 0, 0, 0, 0, 0, 0, 0, 0, 0, 0, 0, 0, 0, 0, 0,\n",
       "        0, 0, 0, 0, 0, 0, 1, 1, 1, 1, 1, 1, 1, 1, 1, 1, 1, 1, 1, 1, 1, 1,\n",
       "        1, 1, 1, 1, 1, 1, 1, 1, 1, 1, 1, 1, 1, 1, 1, 1, 1, 1, 1, 1, 1, 1,\n",
       "        1, 1, 1, 1, 1, 1, 1, 1, 1, 1, 1, 1, 2, 2, 2, 2, 2, 2, 2, 2, 2, 2,\n",
       "        2, 2, 2, 2, 2, 2, 2, 2, 2, 2, 2, 2, 2, 2, 2, 2, 2, 2, 2, 2, 2, 2,\n",
       "        2, 2, 2, 2, 2, 2, 2, 2, 2, 2, 2, 2, 2, 2, 2, 2, 2, 2]),\n",
       " 'target_names': array(['setosa', 'versicolor', 'virginica'], dtype='<U10'),\n",
       " 'DESCR': '.. _iris_dataset:\\n\\nIris plants dataset\\n--------------------\\n\\n**Data Set Characteristics:**\\n\\n    :Number of Instances: 150 (50 in each of three classes)\\n    :Number of Attributes: 4 numeric, predictive attributes and the class\\n    :Attribute Information:\\n        - sepal length in cm\\n        - sepal width in cm\\n        - petal length in cm\\n        - petal width in cm\\n        - class:\\n                - Iris-Setosa\\n                - Iris-Versicolour\\n                - Iris-Virginica\\n                \\n    :Summary Statistics:\\n\\n    ============== ==== ==== ======= ===== ====================\\n                    Min  Max   Mean    SD   Class Correlation\\n    ============== ==== ==== ======= ===== ====================\\n    sepal length:   4.3  7.9   5.84   0.83    0.7826\\n    sepal width:    2.0  4.4   3.05   0.43   -0.4194\\n    petal length:   1.0  6.9   3.76   1.76    0.9490  (high!)\\n    petal width:    0.1  2.5   1.20   0.76    0.9565  (high!)\\n    ============== ==== ==== ======= ===== ====================\\n\\n    :Missing Attribute Values: None\\n    :Class Distribution: 33.3% for each of 3 classes.\\n    :Creator: R.A. Fisher\\n    :Donor: Michael Marshall (MARSHALL%PLU@io.arc.nasa.gov)\\n    :Date: July, 1988\\n\\nThe famous Iris database, first used by Sir R.A. Fisher. The dataset is taken\\nfrom Fisher\\'s paper. Note that it\\'s the same as in R, but not as in the UCI\\nMachine Learning Repository, which has two wrong data points.\\n\\nThis is perhaps the best known database to be found in the\\npattern recognition literature.  Fisher\\'s paper is a classic in the field and\\nis referenced frequently to this day.  (See Duda & Hart, for example.)  The\\ndata set contains 3 classes of 50 instances each, where each class refers to a\\ntype of iris plant.  One class is linearly separable from the other 2; the\\nlatter are NOT linearly separable from each other.\\n\\n.. topic:: References\\n\\n   - Fisher, R.A. \"The use of multiple measurements in taxonomic problems\"\\n     Annual Eugenics, 7, Part II, 179-188 (1936); also in \"Contributions to\\n     Mathematical Statistics\" (John Wiley, NY, 1950).\\n   - Duda, R.O., & Hart, P.E. (1973) Pattern Classification and Scene Analysis.\\n     (Q327.D83) John Wiley & Sons.  ISBN 0-471-22361-1.  See page 218.\\n   - Dasarathy, B.V. (1980) \"Nosing Around the Neighborhood: A New System\\n     Structure and Classification Rule for Recognition in Partially Exposed\\n     Environments\".  IEEE Transactions on Pattern Analysis and Machine\\n     Intelligence, Vol. PAMI-2, No. 1, 67-71.\\n   - Gates, G.W. (1972) \"The Reduced Nearest Neighbor Rule\".  IEEE Transactions\\n     on Information Theory, May 1972, 431-433.\\n   - See also: 1988 MLC Proceedings, 54-64.  Cheeseman et al\"s AUTOCLASS II\\n     conceptual clustering system finds 3 classes in the data.\\n   - Many, many more ...',\n",
       " 'feature_names': ['sepal length (cm)',\n",
       "  'sepal width (cm)',\n",
       "  'petal length (cm)',\n",
       "  'petal width (cm)'],\n",
       " 'filename': '/home/pradip/miniconda3/envs/bellora/lib/python3.7/site-packages/sklearn/datasets/data/iris.csv'}"
      ]
     },
     "metadata": {},
     "output_type": "display_data"
    }
   ],
   "source": [
    "iris = datasets.load_iris()\n",
    "display(iris)"
   ]
  },
  {
   "cell_type": "code",
   "execution_count": 5,
   "metadata": {},
   "outputs": [
    {
     "name": "stdout",
     "output_type": "stream",
     "text": [
      "[0 0 0 0 0 0 0 0 0 0 0 0 0 0 0 0 0 0 0 0 0 0 0 0 0 0 0 0 0 0 0 0 0 0 0 0 0\n",
      " 0 0 0 0 0 0 0 0 0 0 0 0 0 1 1 1 1 1 1 1 1 1 1 1 1 1 1 1 1 1 1 1 1 1 1 1 1\n",
      " 1 1 1 1 1 1 1 1 1 1 1 1 1 1 1 1 1 1 1 1 1 1 1 1 1 1 2 2 2 2 2 2 2 2 2 2 2\n",
      " 2 2 2 2 2 2 2 2 2 2 2 2 2 2 2 2 2 2 2 2 2 2 2 2 2 2 2 2 2 2 2 2 2 2 2 2 2\n",
      " 2 2]\n",
      "[0 0 0 0 0 0 0 0 0 0 0 0 0 0 0 0 0 0 0 0 0 0 0 0 0 0 0 0 0 0 0 0 0 0 0 0 0\n",
      " 0 0 0 0 0 0 0 0 0 0 0 0 0 1 1 1 1 1 1 1 1 1 1 1 1 1 1 1 1 1 1 1 1 1 1 1 1\n",
      " 1 1 1 1 1 1 1 1 1 1 1 1 1 1 1 1 1 1 1 1 1 1 1 1 1 1 1 1 1 1 1 1 1 1 1 1 1\n",
      " 1 1 1 1 1 1 1 1 1 1 1 1 1 1 1 1 1 1 1 1 1 1 1 1 1 1 1 1 1 1 1 1 1 1 1 1 1\n",
      " 1 1]\n"
     ]
    }
   ],
   "source": [
    "X = iris.data[:, :]\n",
    "y = (iris.target != 0)*1 \n",
    "#print(X)\n",
    "print(iris.target)\n",
    "print(y)"
   ]
  },
  {
   "cell_type": "markdown",
   "metadata": {},
   "source": [
    "# sklearn implementation"
   ]
  },
  {
   "cell_type": "code",
   "execution_count": 8,
   "metadata": {},
   "outputs": [],
   "source": [
    "from sklearn.linear_model import LogisticRegression"
   ]
  },
  {
   "cell_type": "code",
   "execution_count": 9,
   "metadata": {},
   "outputs": [],
   "source": [
    "model = LogisticRegression(C=1e20)"
   ]
  },
  {
   "cell_type": "code",
   "execution_count": 10,
   "metadata": {},
   "outputs": [
    {
     "name": "stdout",
     "output_type": "stream",
     "text": [
      "CPU times: user 19.5 ms, sys: 30.7 ms, total: 50.1 ms\n",
      "Wall time: 167 ms\n"
     ]
    },
    {
     "name": "stderr",
     "output_type": "stream",
     "text": [
      "/home/pradip/miniconda3/envs/bellora/lib/python3.7/site-packages/sklearn/linear_model/logistic.py:433: FutureWarning: Default solver will be changed to 'lbfgs' in 0.22. Specify a solver to silence this warning.\n",
      "  FutureWarning)\n"
     ]
    },
    {
     "data": {
      "text/plain": [
       "LogisticRegression(C=1e+20, class_weight=None, dual=False, fit_intercept=True,\n",
       "          intercept_scaling=1, max_iter=100, multi_class='warn',\n",
       "          n_jobs=None, penalty='l2', random_state=None, solver='warn',\n",
       "          tol=0.0001, verbose=0, warm_start=False)"
      ]
     },
     "execution_count": 10,
     "metadata": {},
     "output_type": "execute_result"
    }
   ],
   "source": [
    "%time model.fit(X, y)"
   ]
  },
  {
   "cell_type": "code",
   "execution_count": 11,
   "metadata": {},
   "outputs": [
    {
     "data": {
      "text/plain": [
       "1.0"
      ]
     },
     "execution_count": 11,
     "metadata": {},
     "output_type": "execute_result"
    }
   ],
   "source": [
    "preds = model.predict(X)\n",
    "(preds == y).mean()"
   ]
  },
  {
   "cell_type": "code",
   "execution_count": 12,
   "metadata": {},
   "outputs": [
    {
     "data": {
      "text/plain": [
       "(array([-0.90025946]),\n",
       " array([[-1.50762868, -4.931823  ,  7.81011211,  3.79677487]]))"
      ]
     },
     "execution_count": 12,
     "metadata": {},
     "output_type": "execute_result"
    }
   ],
   "source": [
    "model.intercept_, model.coef_"
   ]
  },
  {
   "cell_type": "markdown",
   "metadata": {},
   "source": [
    "# normalize data"
   ]
  },
  {
   "cell_type": "code",
   "execution_count": 13,
   "metadata": {},
   "outputs": [],
   "source": [
    "%matplotlib inline\n",
    "import numpy as np\n",
    "import matplotlib.pyplot as plt\n",
    "import seaborn as sns\n",
    "import pandas as  pd\n",
    "from sklearn import datasets\n",
    "from sklearn.preprocessing import MinMaxScaler\n",
    "from sklearn.model_selection import train_test_split"
   ]
  },
  {
   "cell_type": "code",
   "execution_count": 14,
   "metadata": {},
   "outputs": [],
   "source": [
    "iris = datasets.load_iris()\n",
    "X = iris.data[:, :]\n",
    "y = (iris.target != 0) * 1\n"
   ]
  },
  {
   "cell_type": "code",
   "execution_count": 15,
   "metadata": {
    "scrolled": true
   },
   "outputs": [
    {
     "name": "stdout",
     "output_type": "stream",
     "text": [
      "(100, 4)\n",
      "(100,)\n",
      "(50, 4)\n",
      "(50,)\n",
      "[[5.1 3.8 1.5 0.3]\n",
      " [6.9 3.1 5.1 2.3]\n",
      " [5.6 2.7 4.2 1.3]\n",
      " [6.4 2.9 4.3 1.3]\n",
      " [4.9 3.1 1.5 0.2]\n",
      " [5.5 2.5 4.  1.3]\n",
      " [4.6 3.2 1.4 0.2]\n",
      " [6.4 2.7 5.3 1.9]\n",
      " [5.6 2.9 3.6 1.3]\n",
      " [5.5 4.2 1.4 0.2]\n",
      " [5.2 2.7 3.9 1.4]\n",
      " [6.  2.9 4.5 1.5]\n",
      " [6.3 2.3 4.4 1.3]\n",
      " [5.  3.6 1.4 0.2]\n",
      " [5.7 2.8 4.1 1.3]\n",
      " [5.5 2.4 3.8 1.1]\n",
      " [5.1 2.5 3.  1.1]\n",
      " [7.9 3.8 6.4 2. ]\n",
      " [6.8 3.  5.5 2.1]\n",
      " [5.8 2.7 4.1 1. ]\n",
      " [6.1 2.8 4.  1.3]\n",
      " [6.3 2.8 5.1 1.5]\n",
      " [6.9 3.1 5.4 2.1]\n",
      " [4.8 3.1 1.6 0.2]\n",
      " [6.6 3.  4.4 1.4]\n",
      " [5.  3.5 1.3 0.3]\n",
      " [6.3 3.3 4.7 1.6]\n",
      " [7.2 3.  5.8 1.6]\n",
      " [6.  2.2 5.  1.5]\n",
      " [6.9 3.1 4.9 1.5]\n",
      " [6.2 2.9 4.3 1.3]\n",
      " [4.9 2.4 3.3 1. ]\n",
      " [7.3 2.9 6.3 1.8]\n",
      " [6.1 2.9 4.7 1.4]\n",
      " [5.5 3.5 1.3 0.2]\n",
      " [6.7 3.3 5.7 2.1]\n",
      " [4.9 2.5 4.5 1.7]\n",
      " [6.7 3.3 5.7 2.5]\n",
      " [6.5 3.2 5.1 2. ]\n",
      " [6.8 2.8 4.8 1.4]\n",
      " [6.7 3.1 5.6 2.4]\n",
      " [5.6 2.8 4.9 2. ]\n",
      " [5.1 3.8 1.6 0.2]\n",
      " [4.8 3.4 1.9 0.2]\n",
      " [5.1 3.5 1.4 0.2]\n",
      " [5.4 3.4 1.7 0.2]\n",
      " [5.6 3.  4.1 1.3]\n",
      " [5.1 3.5 1.4 0.3]\n",
      " [6.  3.4 4.5 1.6]\n",
      " [6.1 2.8 4.7 1.2]\n",
      " [5.7 2.6 3.5 1. ]\n",
      " [5.7 3.8 1.7 0.3]\n",
      " [5.4 3.9 1.7 0.4]\n",
      " [6.7 3.  5.2 2.3]\n",
      " [7.7 3.  6.1 2.3]\n",
      " [5.7 2.9 4.2 1.3]\n",
      " [6.3 2.5 5.  1.9]\n",
      " [6.7 2.5 5.8 1.8]\n",
      " [5.  2.  3.5 1. ]\n",
      " [5.4 3.7 1.5 0.2]\n",
      " [4.7 3.2 1.6 0.2]\n",
      " [5.  3.  1.6 0.2]\n",
      " [6.3 2.9 5.6 1.8]\n",
      " [5.1 3.8 1.9 0.4]\n",
      " [4.9 3.6 1.4 0.1]\n",
      " [6.3 3.3 6.  2.5]\n",
      " [4.4 3.2 1.3 0.2]\n",
      " [5.1 3.7 1.5 0.4]\n",
      " [5.7 4.4 1.5 0.4]\n",
      " [7.2 3.2 6.  1.8]\n",
      " [6.4 3.1 5.5 1.8]\n",
      " [6.5 3.  5.5 1.8]\n",
      " [5.5 2.3 4.  1.3]\n",
      " [5.5 2.4 3.7 1. ]\n",
      " [6.7 3.  5.  1.7]\n",
      " [5.  3.5 1.6 0.6]\n",
      " [6.7 3.1 4.4 1.4]\n",
      " [6.4 2.8 5.6 2.1]\n",
      " [5.8 2.7 5.1 1.9]\n",
      " [6.3 3.4 5.6 2.4]\n",
      " [4.8 3.4 1.6 0.2]\n",
      " [4.9 3.1 1.5 0.1]\n",
      " [5.1 3.4 1.5 0.2]\n",
      " [4.3 3.  1.1 0.1]\n",
      " [5.9 3.  5.1 1.8]\n",
      " [7.7 2.6 6.9 2.3]\n",
      " [7.1 3.  5.9 2.1]\n",
      " [4.9 3.  1.4 0.2]\n",
      " [5.7 2.8 4.5 1.3]\n",
      " [5.8 4.  1.2 0.2]\n",
      " [6.4 2.8 5.6 2.2]\n",
      " [5.2 3.4 1.4 0.2]\n",
      " [4.4 3.  1.3 0.2]\n",
      " [7.7 2.8 6.7 2. ]\n",
      " [4.8 3.  1.4 0.3]\n",
      " [6.7 3.1 4.7 1.5]\n",
      " [6.  2.2 4.  1. ]\n",
      " [5.9 3.2 4.8 1.8]\n",
      " [6.6 2.9 4.6 1.3]\n",
      " [6.2 2.2 4.5 1.5]]\n"
     ]
    }
   ],
   "source": [
    "X_train,Y_train,X_test,Y_test=train_test_split(X,y,test_size=(0.33))\n",
    "print(X_train.shape)\n",
    "print(X_test.shape)\n",
    "print(Y_train.shape)\n",
    "print(Y_test.shape)\n",
    "print(X_train)"
   ]
  },
  {
   "cell_type": "code",
   "execution_count": 16,
   "metadata": {
    "scrolled": false
   },
   "outputs": [
    {
     "name": "stdout",
     "output_type": "stream",
     "text": [
      "[[0.22222222 0.75       0.06896552 0.08333333]\n",
      " [0.72222222 0.45833333 0.68965517 0.91666667]\n",
      " [0.36111111 0.29166667 0.53448276 0.5       ]\n",
      " [0.58333333 0.375      0.55172414 0.5       ]\n",
      " [0.16666667 0.45833333 0.06896552 0.04166667]\n",
      " [0.33333333 0.20833333 0.5        0.5       ]\n",
      " [0.08333333 0.5        0.05172414 0.04166667]\n",
      " [0.58333333 0.29166667 0.72413793 0.75      ]\n",
      " [0.36111111 0.375      0.43103448 0.5       ]\n",
      " [0.33333333 0.91666667 0.05172414 0.04166667]\n",
      " [0.25       0.29166667 0.48275862 0.54166667]\n",
      " [0.47222222 0.375      0.5862069  0.58333333]\n",
      " [0.55555556 0.125      0.56896552 0.5       ]\n",
      " [0.19444444 0.66666667 0.05172414 0.04166667]\n",
      " [0.38888889 0.33333333 0.51724138 0.5       ]\n",
      " [0.33333333 0.16666667 0.46551724 0.41666667]\n",
      " [0.22222222 0.20833333 0.32758621 0.41666667]\n",
      " [1.         0.75       0.9137931  0.79166667]\n",
      " [0.69444444 0.41666667 0.75862069 0.83333333]\n",
      " [0.41666667 0.29166667 0.51724138 0.375     ]\n",
      " [0.5        0.33333333 0.5        0.5       ]\n",
      " [0.55555556 0.33333333 0.68965517 0.58333333]\n",
      " [0.72222222 0.45833333 0.74137931 0.83333333]\n",
      " [0.13888889 0.45833333 0.0862069  0.04166667]\n",
      " [0.63888889 0.41666667 0.56896552 0.54166667]\n",
      " [0.19444444 0.625      0.03448276 0.08333333]\n",
      " [0.55555556 0.54166667 0.62068966 0.625     ]\n",
      " [0.80555556 0.41666667 0.81034483 0.625     ]\n",
      " [0.47222222 0.08333333 0.67241379 0.58333333]\n",
      " [0.72222222 0.45833333 0.65517241 0.58333333]\n",
      " [0.52777778 0.375      0.55172414 0.5       ]\n",
      " [0.16666667 0.16666667 0.37931034 0.375     ]\n",
      " [0.83333333 0.375      0.89655172 0.70833333]\n",
      " [0.5        0.375      0.62068966 0.54166667]\n",
      " [0.33333333 0.625      0.03448276 0.04166667]\n",
      " [0.66666667 0.54166667 0.79310345 0.83333333]\n",
      " [0.16666667 0.20833333 0.5862069  0.66666667]\n",
      " [0.66666667 0.54166667 0.79310345 1.        ]\n",
      " [0.61111111 0.5        0.68965517 0.79166667]\n",
      " [0.69444444 0.33333333 0.63793103 0.54166667]\n",
      " [0.66666667 0.45833333 0.77586207 0.95833333]\n",
      " [0.36111111 0.33333333 0.65517241 0.79166667]\n",
      " [0.22222222 0.75       0.0862069  0.04166667]\n",
      " [0.13888889 0.58333333 0.13793103 0.04166667]\n",
      " [0.22222222 0.625      0.05172414 0.04166667]\n",
      " [0.30555556 0.58333333 0.10344828 0.04166667]\n",
      " [0.36111111 0.41666667 0.51724138 0.5       ]\n",
      " [0.22222222 0.625      0.05172414 0.08333333]\n",
      " [0.47222222 0.58333333 0.5862069  0.625     ]\n",
      " [0.5        0.33333333 0.62068966 0.45833333]\n",
      " [0.38888889 0.25       0.4137931  0.375     ]\n",
      " [0.38888889 0.75       0.10344828 0.08333333]\n",
      " [0.30555556 0.79166667 0.10344828 0.125     ]\n",
      " [0.66666667 0.41666667 0.70689655 0.91666667]\n",
      " [0.94444444 0.41666667 0.86206897 0.91666667]\n",
      " [0.38888889 0.375      0.53448276 0.5       ]\n",
      " [0.55555556 0.20833333 0.67241379 0.75      ]\n",
      " [0.66666667 0.20833333 0.81034483 0.70833333]\n",
      " [0.19444444 0.         0.4137931  0.375     ]\n",
      " [0.30555556 0.70833333 0.06896552 0.04166667]\n",
      " [0.11111111 0.5        0.0862069  0.04166667]\n",
      " [0.19444444 0.41666667 0.0862069  0.04166667]\n",
      " [0.55555556 0.375      0.77586207 0.70833333]\n",
      " [0.22222222 0.75       0.13793103 0.125     ]\n",
      " [0.16666667 0.66666667 0.05172414 0.        ]\n",
      " [0.55555556 0.54166667 0.84482759 1.        ]\n",
      " [0.02777778 0.5        0.03448276 0.04166667]\n",
      " [0.22222222 0.70833333 0.06896552 0.125     ]\n",
      " [0.38888889 1.         0.06896552 0.125     ]\n",
      " [0.80555556 0.5        0.84482759 0.70833333]\n",
      " [0.58333333 0.45833333 0.75862069 0.70833333]\n",
      " [0.61111111 0.41666667 0.75862069 0.70833333]\n",
      " [0.33333333 0.125      0.5        0.5       ]\n",
      " [0.33333333 0.16666667 0.44827586 0.375     ]\n",
      " [0.66666667 0.41666667 0.67241379 0.66666667]\n",
      " [0.19444444 0.625      0.0862069  0.20833333]\n",
      " [0.66666667 0.45833333 0.56896552 0.54166667]\n",
      " [0.58333333 0.33333333 0.77586207 0.83333333]\n",
      " [0.41666667 0.29166667 0.68965517 0.75      ]\n",
      " [0.55555556 0.58333333 0.77586207 0.95833333]\n",
      " [0.13888889 0.58333333 0.0862069  0.04166667]\n",
      " [0.16666667 0.45833333 0.06896552 0.        ]\n",
      " [0.22222222 0.58333333 0.06896552 0.04166667]\n",
      " [0.         0.41666667 0.         0.        ]\n",
      " [0.44444444 0.41666667 0.68965517 0.70833333]\n",
      " [0.94444444 0.25       1.         0.91666667]\n",
      " [0.77777778 0.41666667 0.82758621 0.83333333]\n",
      " [0.16666667 0.41666667 0.05172414 0.04166667]\n",
      " [0.38888889 0.33333333 0.5862069  0.5       ]\n",
      " [0.41666667 0.83333333 0.01724138 0.04166667]\n",
      " [0.58333333 0.33333333 0.77586207 0.875     ]\n",
      " [0.25       0.58333333 0.05172414 0.04166667]\n",
      " [0.02777778 0.41666667 0.03448276 0.04166667]\n",
      " [0.94444444 0.33333333 0.96551724 0.79166667]\n",
      " [0.13888889 0.41666667 0.05172414 0.08333333]\n",
      " [0.66666667 0.45833333 0.62068966 0.58333333]\n",
      " [0.47222222 0.08333333 0.5        0.375     ]\n",
      " [0.44444444 0.5        0.63793103 0.70833333]\n",
      " [0.63888889 0.375      0.60344828 0.5       ]\n",
      " [0.52777778 0.08333333 0.5862069  0.58333333]]\n",
      "(100, 4)\n"
     ]
    }
   ],
   "source": [
    "minmax = MinMaxScaler()\n",
    "train_minmax = minmax.fit_transform(X_train)\n",
    "test_minmax = minmax.fit_transform(Y_train)\n",
    "print(train_minmax)\n",
    "print(train_minmax.shape)"
   ]
  },
  {
   "cell_type": "code",
   "execution_count": 17,
   "metadata": {},
   "outputs": [
    {
     "name": "stdout",
     "output_type": "stream",
     "text": [
      "1.0\n",
      "1.0\n",
      "[1 1]\n"
     ]
    },
    {
     "name": "stderr",
     "output_type": "stream",
     "text": [
      "/home/pradip/miniconda3/envs/bellora/lib/python3.7/site-packages/sklearn/linear_model/logistic.py:433: FutureWarning: Default solver will be changed to 'lbfgs' in 0.22. Specify a solver to silence this warning.\n",
      "  FutureWarning)\n",
      "/home/pradip/miniconda3/envs/bellora/lib/python3.7/site-packages/sklearn/linear_model/logistic.py:433: FutureWarning: Default solver will be changed to 'lbfgs' in 0.22. Specify a solver to silence this warning.\n",
      "  FutureWarning)\n"
     ]
    }
   ],
   "source": [
    "#fitting model\n",
    "clf = LogisticRegression().fit(X, y)\n",
    "print(clf.score(Y_train,Y_test))\n",
    "#using minmaxscaler\n",
    "clf_min_max=LogisticRegression().fit(train_minmax,X_test)\n",
    "#print(clf_min_max.score(Y_train,Y_test))\n",
    "print(clf_min_max.score(test_minmax,Y_test))\n",
    "a=[[4.2,5.3,5.5,4.5],[2.4,3.4,3.5,4.3]]\n",
    "\n",
    "print(clf.predict(a))\n"
   ]
  },
  {
   "cell_type": "code",
   "execution_count": 18,
   "metadata": {},
   "outputs": [
    {
     "name": "stdout",
     "output_type": "stream",
     "text": [
      "[2 2]\n"
     ]
    },
    {
     "name": "stderr",
     "output_type": "stream",
     "text": [
      "/home/pradip/miniconda3/envs/bellora/lib/python3.7/site-packages/sklearn/linear_model/logistic.py:433: FutureWarning: Default solver will be changed to 'lbfgs' in 0.22. Specify a solver to silence this warning.\n",
      "  FutureWarning)\n",
      "/home/pradip/miniconda3/envs/bellora/lib/python3.7/site-packages/sklearn/linear_model/logistic.py:460: FutureWarning: Default multi_class will be changed to 'auto' in 0.22. Specify the multi_class option to silence this warning.\n",
      "  \"this warning.\", FutureWarning)\n"
     ]
    }
   ],
   "source": [
    "from sklearn.datasets import load_iris\n",
    "from sklearn.linear_model import LogisticRegression\n",
    "X, y = load_iris(return_X_y=True)\n",
    "clf = LogisticRegression().fit(X, y)\n",
    "a=[[1.2,1.3,5.5,2.5],[2.4,3.2,3.1,4.3]]\n",
    "#a=[2.3,3,5,4.5]\n",
    "#a.array.reshape(-1,1)\n",
    "\n",
    "print(clf.predict(a))\n",
    "#print(clf.predict_proba(X[:2, :])) \n",
    "#clf.score(X, y)"
   ]
  }
 ],
 "metadata": {
  "kernelspec": {
   "display_name": "Python (bellora)",
   "language": "python",
   "name": "bellora"
  },
  "language_info": {
   "codemirror_mode": {
    "name": "ipython",
    "version": 3
   },
   "file_extension": ".py",
   "mimetype": "text/x-python",
   "name": "python",
   "nbconvert_exporter": "python",
   "pygments_lexer": "ipython3",
   "version": "3.7.1"
  }
 },
 "nbformat": 4,
 "nbformat_minor": 2
}
